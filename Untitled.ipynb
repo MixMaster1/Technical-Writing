{
 "cells": [
  {
   "cell_type": "markdown",
   "metadata": {},
   "source": [
    "# March 31, 2020"
   ]
  },
  {
   "cell_type": "markdown",
   "metadata": {},
   "source": [
    "What I learned today in lecture was utilizing a new python library called NLTK to help me analyze."
   ]
  },
  {
   "cell_type": "code",
   "execution_count": null,
   "metadata": {},
   "outputs": [],
   "source": []
  },
  {
   "cell_type": "markdown",
   "metadata": {},
   "source": [
    "# April 1, 2020"
   ]
  },
  {
   "cell_type": "markdown",
   "metadata": {},
   "source": [
    "Today I tried paying attention in class but alot of it went over my head and it was hard for me to focus still.\n",
    "only thing I got or understood was that PCA(principal component analysis) is like whats going on in your model and also shouldnt be used as a model."
   ]
  },
  {
   "cell_type": "markdown",
   "metadata": {},
   "source": [
    "# April 4, 2020 "
   ]
  },
  {
   "cell_type": "markdown",
   "metadata": {},
   "source": [
    "Today I learned about pipelines and Reccomendation systems.\n",
    "Going to be honest alot of reccomendation systems class flew over my head since I still struggle from learning at home.\n",
    "It is hard to not get distracted and disinterested when not in person. \n",
    "Pipelines went a little better I feel like I understand most of the concept but I do not think I am comfortable yet applying it. I may need to dip my toes in it and explore it. Pipelines are used to transfer data."
   ]
  },
  {
   "cell_type": "markdown",
   "metadata": {},
   "source": [
    "# April 5, 2020"
   ]
  },
  {
   "cell_type": "markdown",
   "metadata": {},
   "source": [
    "Today there were 2 lectures on neural networks. We were learning how the computer made the decision on how it decides what point is what.\n",
    "The example we saw today were about cats and dogs and how it identifies. When we want to go into deeper nueral network we add more hidden layers.\n",
    "\n"
   ]
  }
 ],
 "metadata": {
  "kernelspec": {
   "display_name": "Python 3",
   "language": "python",
   "name": "python3"
  },
  "language_info": {
   "codemirror_mode": {
    "name": "ipython",
    "version": 3
   },
   "file_extension": ".py",
   "mimetype": "text/x-python",
   "name": "python",
   "nbconvert_exporter": "python",
   "pygments_lexer": "ipython3",
   "version": "3.7.4"
  }
 },
 "nbformat": 4,
 "nbformat_minor": 4
}
